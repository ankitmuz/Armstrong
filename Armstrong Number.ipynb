{
 "cells": [
  {
   "cell_type": "code",
   "execution_count": 3,
   "id": "photographic-welcome",
   "metadata": {},
   "outputs": [
    {
     "name": "stdout",
     "output_type": "stream",
     "text": [
      "enter a num: 9474\n",
      "9474 Number is Armstrong\n"
     ]
    }
   ],
   "source": [
    "import math\n",
    "u=input(\"enter a num: \")\n",
    "a=len(u)\n",
    "res=0\n",
    "for i in u:\n",
    "    res=res+math.pow(int(i),a)\n",
    "    x=int(res)\n",
    "if (int(u)==x):\n",
    "    print(u,\"Number is Armstrong\")\n",
    "else:\n",
    "    print(u,\"is not a Armstrong number\")"
   ]
  },
  {
   "cell_type": "code",
   "execution_count": null,
   "id": "necessary-contrast",
   "metadata": {},
   "outputs": [],
   "source": []
  }
 ],
 "metadata": {
  "kernelspec": {
   "display_name": "Python 3",
   "language": "python",
   "name": "python3"
  },
  "language_info": {
   "codemirror_mode": {
    "name": "ipython",
    "version": 3
   },
   "file_extension": ".py",
   "mimetype": "text/x-python",
   "name": "python",
   "nbconvert_exporter": "python",
   "pygments_lexer": "ipython3",
   "version": "3.8.5"
  }
 },
 "nbformat": 4,
 "nbformat_minor": 5
}
